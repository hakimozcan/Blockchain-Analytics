{
  "nbformat": 4,
  "nbformat_minor": 0,
  "metadata": {
    "colab": {
      "provenance": [],
      "authorship_tag": "ABX9TyNUuhj8AKbNh49z12KZwfIA",
      "include_colab_link": true
    },
    "kernelspec": {
      "name": "python3",
      "display_name": "Python 3"
    },
    "language_info": {
      "name": "python"
    }
  },
  "cells": [
    {
      "cell_type": "markdown",
      "metadata": {
        "id": "view-in-github",
        "colab_type": "text"
      },
      "source": [
        "<a href=\"https://colab.research.google.com/github/hakimozcan/Blockchain-Analytics/blob/main/getting_multiple_crypto_data.ipynb\" target=\"_parent\"><img src=\"https://colab.research.google.com/assets/colab-badge.svg\" alt=\"Open In Colab\"/></a>"
      ]
    },
    {
      "cell_type": "code",
      "execution_count": null,
      "metadata": {
        "id": "m3MQY6mzECbh"
      },
      "outputs": [],
      "source": [
        "# Import Libraries\n",
        "import requests\n",
        "import numpy as np\n",
        "import pandas as pd\n",
        "from datetime import datetime\n",
        "from dateutil.relativedelta import relativedelta"
      ]
    },
    {
      "cell_type": "code",
      "source": [
        "# The List of 20 type of cryptocurrency\n",
        "coin_list = ['BTC', 'ETH', 'XRP', 'ADA', 'USDT', 'DOGE', 'XLM', 'DOT', 'UNI', 'LINK', 'USDC', 'BCH', 'LTC', 'GRT', 'ETC', 'FIL', 'AAVE', 'ALGO', 'EOS']"
      ],
      "metadata": {
        "id": "hyDqvVZaEFeD"
      },
      "execution_count": null,
      "outputs": []
    },
    {
      "cell_type": "code",
      "source": [
        "#defining the dataframe\n",
        "main_df = pd.DataFrame()"
      ],
      "metadata": {
        "id": "n3e9xEczEFgS"
      },
      "execution_count": null,
      "outputs": []
    },
    {
      "cell_type": "code",
      "source": [
        "for coin in coin_list:\n",
        "    coin_df = pd.DataFrame()\n",
        "    df = pd.DataFrame(index=[0])\n",
        "\n",
        "    # Defining the Start Date and End Date\n",
        "    datetime_end = datetime(2021, 7, 2, 0, 0)\n",
        "    datetime_check = datetime(2021, 7, 1, 0, 0)\n",
        "\n",
        "    while len(df) > 0:\n",
        "        if datetime_end == datetime_check:\n",
        "            break\n",
        "\n",
        "        datetime_start = datetime_end - relativedelta(hours = 12)\n",
        "\n",
        "        #Api for the scrapping\n",
        "        url = 'https://production.api.coindesk.com/v2/price/values/'+ coin +'?start_date='+datetime_start.strftime(\"%Y-%m-%dT%H:%M\") + '&end_date=' + datetime_end.strftime(\"%Y-%m-%dT%H:%M\") + '&ohlc=true'\n",
        "\n",
        "        #we are using the request to fetch the data from the api in the json format and then storing it into the dataframe.\n",
        "        temp_data = requests.get(url).json()\n",
        "        df = pd.DataFrame(temp_data['data']['entries'])\n",
        "        df.columns = ['Timestamp', 'Open', 'High', 'Low', 'Close']\n",
        "\n",
        "        # To handle the Missing Data\n",
        "        insert_ids_list = [np.nan]\n",
        "\n",
        "        '''In numerous occasions, I observed that CoinDesk did not collect every minute of data.\n",
        "        According to observation, in a normal circumstance, the timestamp would have a discrepancy\n",
        "        value of 60000 for 1 minute. As a result, I can quickly tell that the missing period is the\n",
        "        time gap if the row difference for the timestamp is larger than 60000. To deal with it, a\n",
        "        hot-deck imputation procedure is used. To put it another way, the nearest minute data will\n",
        "        be substituted for the missing one.\n",
        "        '''\n",
        "\n",
        "        while len(insert_ids_list) > 0:\n",
        "            timestamp_checking = np.array(df['Timestamp'][1:]) - np.array(df['Timestamp'][:-1])\n",
        "            insert_ids_list = np.where(timestamp_checking!= 60000)[0]\n",
        "            if len(insert_ids_list) > 0:\n",
        "                print(str(len(insert_ids_list)) + ' mismatched.')\n",
        "                insert_ids = insert_ids_list[0]\n",
        "                temp_df = df.iloc[insert_ids.repeat(int(timestamp_checking[insert_ids]/60000)-1)].reset_index(drop=True)\n",
        "                temp_df['Timestamp'] = [temp_df['Timestamp'][0] + i*60000 for i in range(1, len(temp_df)+1)]\n",
        "                df = df.loc[:insert_ids].append(temp_df).append(df.loc[insert_ids+1:]).reset_index(drop=True)\n",
        "                insert_ids_list = insert_ids_list[1:]\n",
        "\n",
        "\n",
        "        #adding datetime and symbol to dataframe\n",
        "        df = df.drop(['Timestamp'], axis=1)\n",
        "        df['Datetime'] = [datetime_end - relativedelta(minutes=len(df)-i) for i in range(0, len(df))]\n",
        "        coin_df = df.append(coin_df)\n",
        "        datetime_end = datetime_start\n",
        "\n",
        "    coin_df['Symbol'] = coin\n",
        "    main_df = main_df.append(coin_df)"
      ],
      "metadata": {
        "colab": {
          "base_uri": "https://localhost:8080/"
        },
        "id": "JnI4YXCqEFi5",
        "outputId": "c635a171-cae3-4291-f92a-e5579f21cbde"
      },
      "execution_count": null,
      "outputs": [
        {
          "output_type": "stream",
          "name": "stderr",
          "text": [
            "<ipython-input-4-541b4fe3d22a>:49: FutureWarning: The frame.append method is deprecated and will be removed from pandas in a future version. Use pandas.concat instead.\n",
            "  coin_df = df.append(coin_df)\n"
          ]
        },
        {
          "output_type": "stream",
          "name": "stdout",
          "text": [
            "1 mismatched.\n"
          ]
        },
        {
          "output_type": "stream",
          "name": "stderr",
          "text": [
            "<ipython-input-4-541b4fe3d22a>:42: FutureWarning: The frame.append method is deprecated and will be removed from pandas in a future version. Use pandas.concat instead.\n",
            "  df = df.loc[:insert_ids].append(temp_df).append(df.loc[insert_ids+1:]).reset_index(drop=True)\n",
            "<ipython-input-4-541b4fe3d22a>:49: FutureWarning: The frame.append method is deprecated and will be removed from pandas in a future version. Use pandas.concat instead.\n",
            "  coin_df = df.append(coin_df)\n",
            "<ipython-input-4-541b4fe3d22a>:53: FutureWarning: The frame.append method is deprecated and will be removed from pandas in a future version. Use pandas.concat instead.\n",
            "  main_df = main_df.append(coin_df)\n",
            "<ipython-input-4-541b4fe3d22a>:49: FutureWarning: The frame.append method is deprecated and will be removed from pandas in a future version. Use pandas.concat instead.\n",
            "  coin_df = df.append(coin_df)\n"
          ]
        },
        {
          "output_type": "stream",
          "name": "stdout",
          "text": [
            "1 mismatched.\n"
          ]
        },
        {
          "output_type": "stream",
          "name": "stderr",
          "text": [
            "<ipython-input-4-541b4fe3d22a>:42: FutureWarning: The frame.append method is deprecated and will be removed from pandas in a future version. Use pandas.concat instead.\n",
            "  df = df.loc[:insert_ids].append(temp_df).append(df.loc[insert_ids+1:]).reset_index(drop=True)\n",
            "<ipython-input-4-541b4fe3d22a>:49: FutureWarning: The frame.append method is deprecated and will be removed from pandas in a future version. Use pandas.concat instead.\n",
            "  coin_df = df.append(coin_df)\n",
            "<ipython-input-4-541b4fe3d22a>:53: FutureWarning: The frame.append method is deprecated and will be removed from pandas in a future version. Use pandas.concat instead.\n",
            "  main_df = main_df.append(coin_df)\n",
            "<ipython-input-4-541b4fe3d22a>:49: FutureWarning: The frame.append method is deprecated and will be removed from pandas in a future version. Use pandas.concat instead.\n",
            "  coin_df = df.append(coin_df)\n"
          ]
        },
        {
          "output_type": "stream",
          "name": "stdout",
          "text": [
            "1 mismatched.\n"
          ]
        },
        {
          "output_type": "stream",
          "name": "stderr",
          "text": [
            "<ipython-input-4-541b4fe3d22a>:42: FutureWarning: The frame.append method is deprecated and will be removed from pandas in a future version. Use pandas.concat instead.\n",
            "  df = df.loc[:insert_ids].append(temp_df).append(df.loc[insert_ids+1:]).reset_index(drop=True)\n",
            "<ipython-input-4-541b4fe3d22a>:49: FutureWarning: The frame.append method is deprecated and will be removed from pandas in a future version. Use pandas.concat instead.\n",
            "  coin_df = df.append(coin_df)\n",
            "<ipython-input-4-541b4fe3d22a>:53: FutureWarning: The frame.append method is deprecated and will be removed from pandas in a future version. Use pandas.concat instead.\n",
            "  main_df = main_df.append(coin_df)\n",
            "<ipython-input-4-541b4fe3d22a>:49: FutureWarning: The frame.append method is deprecated and will be removed from pandas in a future version. Use pandas.concat instead.\n",
            "  coin_df = df.append(coin_df)\n"
          ]
        },
        {
          "output_type": "stream",
          "name": "stdout",
          "text": [
            "1 mismatched.\n"
          ]
        },
        {
          "output_type": "stream",
          "name": "stderr",
          "text": [
            "<ipython-input-4-541b4fe3d22a>:42: FutureWarning: The frame.append method is deprecated and will be removed from pandas in a future version. Use pandas.concat instead.\n",
            "  df = df.loc[:insert_ids].append(temp_df).append(df.loc[insert_ids+1:]).reset_index(drop=True)\n",
            "<ipython-input-4-541b4fe3d22a>:49: FutureWarning: The frame.append method is deprecated and will be removed from pandas in a future version. Use pandas.concat instead.\n",
            "  coin_df = df.append(coin_df)\n",
            "<ipython-input-4-541b4fe3d22a>:53: FutureWarning: The frame.append method is deprecated and will be removed from pandas in a future version. Use pandas.concat instead.\n",
            "  main_df = main_df.append(coin_df)\n",
            "<ipython-input-4-541b4fe3d22a>:49: FutureWarning: The frame.append method is deprecated and will be removed from pandas in a future version. Use pandas.concat instead.\n",
            "  coin_df = df.append(coin_df)\n"
          ]
        },
        {
          "output_type": "stream",
          "name": "stdout",
          "text": [
            "1 mismatched.\n"
          ]
        },
        {
          "output_type": "stream",
          "name": "stderr",
          "text": [
            "<ipython-input-4-541b4fe3d22a>:42: FutureWarning: The frame.append method is deprecated and will be removed from pandas in a future version. Use pandas.concat instead.\n",
            "  df = df.loc[:insert_ids].append(temp_df).append(df.loc[insert_ids+1:]).reset_index(drop=True)\n",
            "<ipython-input-4-541b4fe3d22a>:49: FutureWarning: The frame.append method is deprecated and will be removed from pandas in a future version. Use pandas.concat instead.\n",
            "  coin_df = df.append(coin_df)\n",
            "<ipython-input-4-541b4fe3d22a>:53: FutureWarning: The frame.append method is deprecated and will be removed from pandas in a future version. Use pandas.concat instead.\n",
            "  main_df = main_df.append(coin_df)\n",
            "<ipython-input-4-541b4fe3d22a>:49: FutureWarning: The frame.append method is deprecated and will be removed from pandas in a future version. Use pandas.concat instead.\n",
            "  coin_df = df.append(coin_df)\n"
          ]
        },
        {
          "output_type": "stream",
          "name": "stdout",
          "text": [
            "1 mismatched.\n"
          ]
        },
        {
          "output_type": "stream",
          "name": "stderr",
          "text": [
            "<ipython-input-4-541b4fe3d22a>:42: FutureWarning: The frame.append method is deprecated and will be removed from pandas in a future version. Use pandas.concat instead.\n",
            "  df = df.loc[:insert_ids].append(temp_df).append(df.loc[insert_ids+1:]).reset_index(drop=True)\n",
            "<ipython-input-4-541b4fe3d22a>:49: FutureWarning: The frame.append method is deprecated and will be removed from pandas in a future version. Use pandas.concat instead.\n",
            "  coin_df = df.append(coin_df)\n",
            "<ipython-input-4-541b4fe3d22a>:53: FutureWarning: The frame.append method is deprecated and will be removed from pandas in a future version. Use pandas.concat instead.\n",
            "  main_df = main_df.append(coin_df)\n",
            "<ipython-input-4-541b4fe3d22a>:49: FutureWarning: The frame.append method is deprecated and will be removed from pandas in a future version. Use pandas.concat instead.\n",
            "  coin_df = df.append(coin_df)\n"
          ]
        },
        {
          "output_type": "stream",
          "name": "stdout",
          "text": [
            "1 mismatched.\n"
          ]
        },
        {
          "output_type": "stream",
          "name": "stderr",
          "text": [
            "<ipython-input-4-541b4fe3d22a>:42: FutureWarning: The frame.append method is deprecated and will be removed from pandas in a future version. Use pandas.concat instead.\n",
            "  df = df.loc[:insert_ids].append(temp_df).append(df.loc[insert_ids+1:]).reset_index(drop=True)\n",
            "<ipython-input-4-541b4fe3d22a>:49: FutureWarning: The frame.append method is deprecated and will be removed from pandas in a future version. Use pandas.concat instead.\n",
            "  coin_df = df.append(coin_df)\n",
            "<ipython-input-4-541b4fe3d22a>:53: FutureWarning: The frame.append method is deprecated and will be removed from pandas in a future version. Use pandas.concat instead.\n",
            "  main_df = main_df.append(coin_df)\n",
            "<ipython-input-4-541b4fe3d22a>:49: FutureWarning: The frame.append method is deprecated and will be removed from pandas in a future version. Use pandas.concat instead.\n",
            "  coin_df = df.append(coin_df)\n"
          ]
        },
        {
          "output_type": "stream",
          "name": "stdout",
          "text": [
            "1 mismatched.\n"
          ]
        },
        {
          "output_type": "stream",
          "name": "stderr",
          "text": [
            "<ipython-input-4-541b4fe3d22a>:42: FutureWarning: The frame.append method is deprecated and will be removed from pandas in a future version. Use pandas.concat instead.\n",
            "  df = df.loc[:insert_ids].append(temp_df).append(df.loc[insert_ids+1:]).reset_index(drop=True)\n",
            "<ipython-input-4-541b4fe3d22a>:49: FutureWarning: The frame.append method is deprecated and will be removed from pandas in a future version. Use pandas.concat instead.\n",
            "  coin_df = df.append(coin_df)\n",
            "<ipython-input-4-541b4fe3d22a>:53: FutureWarning: The frame.append method is deprecated and will be removed from pandas in a future version. Use pandas.concat instead.\n",
            "  main_df = main_df.append(coin_df)\n",
            "<ipython-input-4-541b4fe3d22a>:49: FutureWarning: The frame.append method is deprecated and will be removed from pandas in a future version. Use pandas.concat instead.\n",
            "  coin_df = df.append(coin_df)\n"
          ]
        },
        {
          "output_type": "stream",
          "name": "stdout",
          "text": [
            "1 mismatched.\n"
          ]
        },
        {
          "output_type": "stream",
          "name": "stderr",
          "text": [
            "<ipython-input-4-541b4fe3d22a>:42: FutureWarning: The frame.append method is deprecated and will be removed from pandas in a future version. Use pandas.concat instead.\n",
            "  df = df.loc[:insert_ids].append(temp_df).append(df.loc[insert_ids+1:]).reset_index(drop=True)\n",
            "<ipython-input-4-541b4fe3d22a>:49: FutureWarning: The frame.append method is deprecated and will be removed from pandas in a future version. Use pandas.concat instead.\n",
            "  coin_df = df.append(coin_df)\n",
            "<ipython-input-4-541b4fe3d22a>:53: FutureWarning: The frame.append method is deprecated and will be removed from pandas in a future version. Use pandas.concat instead.\n",
            "  main_df = main_df.append(coin_df)\n",
            "<ipython-input-4-541b4fe3d22a>:49: FutureWarning: The frame.append method is deprecated and will be removed from pandas in a future version. Use pandas.concat instead.\n",
            "  coin_df = df.append(coin_df)\n"
          ]
        },
        {
          "output_type": "stream",
          "name": "stdout",
          "text": [
            "1 mismatched.\n"
          ]
        },
        {
          "output_type": "stream",
          "name": "stderr",
          "text": [
            "<ipython-input-4-541b4fe3d22a>:42: FutureWarning: The frame.append method is deprecated and will be removed from pandas in a future version. Use pandas.concat instead.\n",
            "  df = df.loc[:insert_ids].append(temp_df).append(df.loc[insert_ids+1:]).reset_index(drop=True)\n",
            "<ipython-input-4-541b4fe3d22a>:49: FutureWarning: The frame.append method is deprecated and will be removed from pandas in a future version. Use pandas.concat instead.\n",
            "  coin_df = df.append(coin_df)\n",
            "<ipython-input-4-541b4fe3d22a>:53: FutureWarning: The frame.append method is deprecated and will be removed from pandas in a future version. Use pandas.concat instead.\n",
            "  main_df = main_df.append(coin_df)\n",
            "<ipython-input-4-541b4fe3d22a>:49: FutureWarning: The frame.append method is deprecated and will be removed from pandas in a future version. Use pandas.concat instead.\n",
            "  coin_df = df.append(coin_df)\n",
            "<ipython-input-4-541b4fe3d22a>:42: FutureWarning: The frame.append method is deprecated and will be removed from pandas in a future version. Use pandas.concat instead.\n",
            "  df = df.loc[:insert_ids].append(temp_df).append(df.loc[insert_ids+1:]).reset_index(drop=True)\n",
            "<ipython-input-4-541b4fe3d22a>:49: FutureWarning: The frame.append method is deprecated and will be removed from pandas in a future version. Use pandas.concat instead.\n",
            "  coin_df = df.append(coin_df)\n",
            "<ipython-input-4-541b4fe3d22a>:53: FutureWarning: The frame.append method is deprecated and will be removed from pandas in a future version. Use pandas.concat instead.\n",
            "  main_df = main_df.append(coin_df)\n"
          ]
        },
        {
          "output_type": "stream",
          "name": "stdout",
          "text": [
            "1 mismatched.\n"
          ]
        },
        {
          "output_type": "stream",
          "name": "stderr",
          "text": [
            "<ipython-input-4-541b4fe3d22a>:49: FutureWarning: The frame.append method is deprecated and will be removed from pandas in a future version. Use pandas.concat instead.\n",
            "  coin_df = df.append(coin_df)\n"
          ]
        },
        {
          "output_type": "stream",
          "name": "stdout",
          "text": [
            "1 mismatched.\n"
          ]
        },
        {
          "output_type": "stream",
          "name": "stderr",
          "text": [
            "<ipython-input-4-541b4fe3d22a>:42: FutureWarning: The frame.append method is deprecated and will be removed from pandas in a future version. Use pandas.concat instead.\n",
            "  df = df.loc[:insert_ids].append(temp_df).append(df.loc[insert_ids+1:]).reset_index(drop=True)\n",
            "<ipython-input-4-541b4fe3d22a>:49: FutureWarning: The frame.append method is deprecated and will be removed from pandas in a future version. Use pandas.concat instead.\n",
            "  coin_df = df.append(coin_df)\n",
            "<ipython-input-4-541b4fe3d22a>:53: FutureWarning: The frame.append method is deprecated and will be removed from pandas in a future version. Use pandas.concat instead.\n",
            "  main_df = main_df.append(coin_df)\n",
            "<ipython-input-4-541b4fe3d22a>:49: FutureWarning: The frame.append method is deprecated and will be removed from pandas in a future version. Use pandas.concat instead.\n",
            "  coin_df = df.append(coin_df)\n"
          ]
        },
        {
          "output_type": "stream",
          "name": "stdout",
          "text": [
            "1 mismatched.\n"
          ]
        },
        {
          "output_type": "stream",
          "name": "stderr",
          "text": [
            "<ipython-input-4-541b4fe3d22a>:42: FutureWarning: The frame.append method is deprecated and will be removed from pandas in a future version. Use pandas.concat instead.\n",
            "  df = df.loc[:insert_ids].append(temp_df).append(df.loc[insert_ids+1:]).reset_index(drop=True)\n",
            "<ipython-input-4-541b4fe3d22a>:49: FutureWarning: The frame.append method is deprecated and will be removed from pandas in a future version. Use pandas.concat instead.\n",
            "  coin_df = df.append(coin_df)\n",
            "<ipython-input-4-541b4fe3d22a>:53: FutureWarning: The frame.append method is deprecated and will be removed from pandas in a future version. Use pandas.concat instead.\n",
            "  main_df = main_df.append(coin_df)\n",
            "<ipython-input-4-541b4fe3d22a>:49: FutureWarning: The frame.append method is deprecated and will be removed from pandas in a future version. Use pandas.concat instead.\n",
            "  coin_df = df.append(coin_df)\n",
            "<ipython-input-4-541b4fe3d22a>:42: FutureWarning: The frame.append method is deprecated and will be removed from pandas in a future version. Use pandas.concat instead.\n",
            "  df = df.loc[:insert_ids].append(temp_df).append(df.loc[insert_ids+1:]).reset_index(drop=True)\n",
            "<ipython-input-4-541b4fe3d22a>:49: FutureWarning: The frame.append method is deprecated and will be removed from pandas in a future version. Use pandas.concat instead.\n",
            "  coin_df = df.append(coin_df)\n",
            "<ipython-input-4-541b4fe3d22a>:53: FutureWarning: The frame.append method is deprecated and will be removed from pandas in a future version. Use pandas.concat instead.\n",
            "  main_df = main_df.append(coin_df)\n"
          ]
        },
        {
          "output_type": "stream",
          "name": "stdout",
          "text": [
            "1 mismatched.\n"
          ]
        },
        {
          "output_type": "stream",
          "name": "stderr",
          "text": [
            "<ipython-input-4-541b4fe3d22a>:49: FutureWarning: The frame.append method is deprecated and will be removed from pandas in a future version. Use pandas.concat instead.\n",
            "  coin_df = df.append(coin_df)\n"
          ]
        },
        {
          "output_type": "stream",
          "name": "stdout",
          "text": [
            "1 mismatched.\n"
          ]
        },
        {
          "output_type": "stream",
          "name": "stderr",
          "text": [
            "<ipython-input-4-541b4fe3d22a>:42: FutureWarning: The frame.append method is deprecated and will be removed from pandas in a future version. Use pandas.concat instead.\n",
            "  df = df.loc[:insert_ids].append(temp_df).append(df.loc[insert_ids+1:]).reset_index(drop=True)\n",
            "<ipython-input-4-541b4fe3d22a>:49: FutureWarning: The frame.append method is deprecated and will be removed from pandas in a future version. Use pandas.concat instead.\n",
            "  coin_df = df.append(coin_df)\n",
            "<ipython-input-4-541b4fe3d22a>:53: FutureWarning: The frame.append method is deprecated and will be removed from pandas in a future version. Use pandas.concat instead.\n",
            "  main_df = main_df.append(coin_df)\n",
            "<ipython-input-4-541b4fe3d22a>:49: FutureWarning: The frame.append method is deprecated and will be removed from pandas in a future version. Use pandas.concat instead.\n",
            "  coin_df = df.append(coin_df)\n"
          ]
        },
        {
          "output_type": "stream",
          "name": "stdout",
          "text": [
            "1 mismatched.\n"
          ]
        },
        {
          "output_type": "stream",
          "name": "stderr",
          "text": [
            "<ipython-input-4-541b4fe3d22a>:42: FutureWarning: The frame.append method is deprecated and will be removed from pandas in a future version. Use pandas.concat instead.\n",
            "  df = df.loc[:insert_ids].append(temp_df).append(df.loc[insert_ids+1:]).reset_index(drop=True)\n",
            "<ipython-input-4-541b4fe3d22a>:49: FutureWarning: The frame.append method is deprecated and will be removed from pandas in a future version. Use pandas.concat instead.\n",
            "  coin_df = df.append(coin_df)\n",
            "<ipython-input-4-541b4fe3d22a>:53: FutureWarning: The frame.append method is deprecated and will be removed from pandas in a future version. Use pandas.concat instead.\n",
            "  main_df = main_df.append(coin_df)\n",
            "<ipython-input-4-541b4fe3d22a>:49: FutureWarning: The frame.append method is deprecated and will be removed from pandas in a future version. Use pandas.concat instead.\n",
            "  coin_df = df.append(coin_df)\n"
          ]
        },
        {
          "output_type": "stream",
          "name": "stdout",
          "text": [
            "1 mismatched.\n"
          ]
        },
        {
          "output_type": "stream",
          "name": "stderr",
          "text": [
            "<ipython-input-4-541b4fe3d22a>:42: FutureWarning: The frame.append method is deprecated and will be removed from pandas in a future version. Use pandas.concat instead.\n",
            "  df = df.loc[:insert_ids].append(temp_df).append(df.loc[insert_ids+1:]).reset_index(drop=True)\n",
            "<ipython-input-4-541b4fe3d22a>:49: FutureWarning: The frame.append method is deprecated and will be removed from pandas in a future version. Use pandas.concat instead.\n",
            "  coin_df = df.append(coin_df)\n",
            "<ipython-input-4-541b4fe3d22a>:53: FutureWarning: The frame.append method is deprecated and will be removed from pandas in a future version. Use pandas.concat instead.\n",
            "  main_df = main_df.append(coin_df)\n",
            "<ipython-input-4-541b4fe3d22a>:49: FutureWarning: The frame.append method is deprecated and will be removed from pandas in a future version. Use pandas.concat instead.\n",
            "  coin_df = df.append(coin_df)\n"
          ]
        },
        {
          "output_type": "stream",
          "name": "stdout",
          "text": [
            "1 mismatched.\n"
          ]
        },
        {
          "output_type": "stream",
          "name": "stderr",
          "text": [
            "<ipython-input-4-541b4fe3d22a>:42: FutureWarning: The frame.append method is deprecated and will be removed from pandas in a future version. Use pandas.concat instead.\n",
            "  df = df.loc[:insert_ids].append(temp_df).append(df.loc[insert_ids+1:]).reset_index(drop=True)\n",
            "<ipython-input-4-541b4fe3d22a>:49: FutureWarning: The frame.append method is deprecated and will be removed from pandas in a future version. Use pandas.concat instead.\n",
            "  coin_df = df.append(coin_df)\n",
            "<ipython-input-4-541b4fe3d22a>:53: FutureWarning: The frame.append method is deprecated and will be removed from pandas in a future version. Use pandas.concat instead.\n",
            "  main_df = main_df.append(coin_df)\n",
            "<ipython-input-4-541b4fe3d22a>:49: FutureWarning: The frame.append method is deprecated and will be removed from pandas in a future version. Use pandas.concat instead.\n",
            "  coin_df = df.append(coin_df)\n"
          ]
        },
        {
          "output_type": "stream",
          "name": "stdout",
          "text": [
            "1 mismatched.\n"
          ]
        },
        {
          "output_type": "stream",
          "name": "stderr",
          "text": [
            "<ipython-input-4-541b4fe3d22a>:42: FutureWarning: The frame.append method is deprecated and will be removed from pandas in a future version. Use pandas.concat instead.\n",
            "  df = df.loc[:insert_ids].append(temp_df).append(df.loc[insert_ids+1:]).reset_index(drop=True)\n",
            "<ipython-input-4-541b4fe3d22a>:49: FutureWarning: The frame.append method is deprecated and will be removed from pandas in a future version. Use pandas.concat instead.\n",
            "  coin_df = df.append(coin_df)\n",
            "<ipython-input-4-541b4fe3d22a>:53: FutureWarning: The frame.append method is deprecated and will be removed from pandas in a future version. Use pandas.concat instead.\n",
            "  main_df = main_df.append(coin_df)\n"
          ]
        }
      ]
    },
    {
      "cell_type": "code",
      "source": [
        "main_df = main_df[['Datetime', 'Symbol', 'Open', 'High', 'Low', 'Close']].reset_index(drop=True)\n",
        "main_df"
      ],
      "metadata": {
        "id": "BEnEq4O-EFlR"
      },
      "execution_count": null,
      "outputs": []
    },
    {
      "cell_type": "code",
      "source": [
        "main_df.to_csv('main_df.csv', index=False)"
      ],
      "metadata": {
        "id": "fCWARm0nEFn2"
      },
      "execution_count": null,
      "outputs": []
    },
    {
      "cell_type": "code",
      "source": [
        "#importing libraries\n",
        "import os\n",
        "\n",
        "import pandas as pd\n",
        "import numpy as np\n",
        "import matplotlib.pyplot as plt\n",
        "import seaborn as sns\n",
        "import pandas_datareader.data as web\n",
        "import plotly.express as px\n",
        "import plotly.graph_objects as go\n",
        "from datetime import datetime, timedelta\n",
        "\n",
        "import matplotlib.pyplot as plt\n",
        "from matplotlib.ticker import ScalarFormatter\n",
        "import warnings\n",
        "warnings.filterwarnings(\"ignore\")\n",
        "\n",
        "#for bold\n",
        "start='\\033[1m'\n",
        "end='\\033[0;0m'"
      ],
      "metadata": {
        "id": "utzIuHGIEFqd"
      },
      "execution_count": null,
      "outputs": []
    },
    {
      "cell_type": "code",
      "source": [
        "df = pd.DataFrame()\n",
        "for file in os.listdir(\"Data\"):\n",
        "    if file.endswith(\".csv\"):\n",
        "        df = pd.concat([df , pd.read_csv(os.path.join(\"Data\", file),infer_datetime_format=True)], axis=0 )\n",
        "\n",
        "df.reset_index(drop=True, inplace=True)\n",
        "df.drop('SNo',axis=1 ,inplace=True)\n",
        "df"
      ],
      "metadata": {
        "id": "ISD9xCrjEFsz"
      },
      "execution_count": null,
      "outputs": []
    }
  ]
}